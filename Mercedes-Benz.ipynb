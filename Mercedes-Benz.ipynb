{
 "cells": [
  {
   "cell_type": "code",
   "execution_count": 750,
   "metadata": {},
   "outputs": [],
   "source": [
    "import numpy as np\n",
    "import pandas as pd\n",
    "from sklearn import preprocessing\n",
    "from sklearn import decomposition\n",
    "from sklearn.model_selection import train_test_split\n",
    "import xgboost as xgb\n",
    "from sklearn.metrics import r2_score\n",
    "from sklearn.preprocessing import StandardScaler\n",
    "import matplotlib.pyplot as plt"
   ]
  },
  {
   "cell_type": "code",
   "execution_count": 751,
   "metadata": {},
   "outputs": [],
   "source": [
    "data_path = r'C:\\Users\\91790\\Desktop\\ML\\Project\\Machine-Learning--Projects\\Projects\\Projects for Submission\\Project 1 - Mercedes-Benz Greener Manufacturing\\Dataset for the project\\train\\train.csv'\n",
    "data = pd.read_csv(data_path)\n",
    "\n",
    "test_data_path = r'C:\\Users\\91790\\Desktop\\ML\\Project\\Machine-Learning--Projects\\Projects\\Projects for Submission\\Project 1 - Mercedes-Benz Greener Manufacturing\\Dataset for the project\\test\\test.csv'\n",
    "unseen_data = pd.read_csv(test_data_path)"
   ]
  },
  {
   "cell_type": "code",
   "execution_count": 752,
   "metadata": {},
   "outputs": [
    {
     "name": "stdout",
     "output_type": "stream",
     "text": [
      "Shape of Training data : (4209, 378)\n",
      "Null values column wise:  Index([], dtype='object')\n",
      "All unique datatypes: [dtype('int64') dtype('float64') dtype('O')]\n"
     ]
    }
   ],
   "source": [
    "#Data Structure\n",
    "print('Shape of {name} : {shape}'.format(name = \"Training data\",shape = data.shape))\n",
    "print('Null values column wise: ', data.columns[data.isnull().sum() > 0])\n",
    "print('All unique datatypes: {d_types}'.format(d_types = data.dtypes.unique()))\n",
    "data_copy = data.copy()"
   ]
  },
  {
   "cell_type": "code",
   "execution_count": 753,
   "metadata": {},
   "outputs": [
    {
     "data": {
      "text/plain": [
       "Index(['X0', 'X1', 'X2', 'X3', 'X4', 'X5', 'X6', 'X8'], dtype='object')"
      ]
     },
     "execution_count": 753,
     "metadata": {},
     "output_type": "execute_result"
    }
   ],
   "source": [
    "#Get columns with object datatype\n",
    "objtype_col = data.columns[data.dtypes == object]\n",
    "objtype_col"
   ]
  },
  {
   "cell_type": "code",
   "execution_count": 754,
   "metadata": {},
   "outputs": [],
   "source": [
    "# Testing purpose - label encode object type data\n",
    "def encode_array(arr):\n",
    "    l_encoder = preprocessing.LabelEncoder().fit(arr)\n",
    "    return l_encoder.transform(arr)"
   ]
  },
  {
   "cell_type": "code",
   "execution_count": 755,
   "metadata": {},
   "outputs": [
    {
     "name": "stdout",
     "output_type": "stream",
     "text": [
      "   ID       y  X0  X1  X2  X3  X4  X5  X6  X8  ...  X375  X376  X377  X378  \\\n",
      "0   0  130.81  32  23  17   0   3  24   9  14  ...     0     0     1     0   \n",
      "1   6   88.53  32  21  19   4   3  28  11  14  ...     1     0     0     0   \n",
      "2   7   76.26  20  24  34   2   3  27   9  23  ...     0     0     0     0   \n",
      "3   9   80.62  20  21  34   5   3  27  11   4  ...     0     0     0     0   \n",
      "4  13   78.02  20  23  34   5   3  12   3  13  ...     0     0     0     0   \n",
      "\n",
      "   X379  X380  X382  X383  X384  X385  \n",
      "0     0     0     0     0     0     0  \n",
      "1     0     0     0     0     0     0  \n",
      "2     0     0     1     0     0     0  \n",
      "3     0     0     0     0     0     0  \n",
      "4     0     0     0     0     0     0  \n",
      "\n",
      "[5 rows x 378 columns]\n",
      "   ID  X0  X1  X2  X3  X4  X5  X6  X8  X10  ...  X375  X376  X377  X378  X379  \\\n",
      "0   1  21  23  34   5   3  26   0  22    0  ...     0     0     0     1     0   \n",
      "1   2  42   3   8   0   3   9   6  24    0  ...     0     0     1     0     0   \n",
      "2   3  21  23  17   5   3   0   9   9    0  ...     0     0     0     1     0   \n",
      "3   4  21  13  34   5   3  31  11  13    0  ...     0     0     0     1     0   \n",
      "4   5  45  20  17   2   3  30   8  12    0  ...     1     0     0     0     0   \n",
      "\n",
      "   X380  X382  X383  X384  X385  \n",
      "0     0     0     0     0     0  \n",
      "1     0     0     0     0     0  \n",
      "2     0     0     0     0     0  \n",
      "3     0     0     0     0     0  \n",
      "4     0     0     0     0     0  \n",
      "\n",
      "[5 rows x 377 columns]\n"
     ]
    }
   ],
   "source": [
    "# Label Encode Training Copied Data\n",
    "for col in objtype_col:\n",
    "    data_copy[col] = encode_array(data_copy[col])\n",
    "print(data_copy.head())\n",
    "\n",
    "# Label Encode Unseen Test data\n",
    "for col in objtype_col:\n",
    "    unseen_data[col] = encode_array(unseen_data[col])\n",
    "print(unseen_data.head())"
   ]
  },
  {
   "cell_type": "code",
   "execution_count": 756,
   "metadata": {},
   "outputs": [
    {
     "data": {
      "text/html": [
       "<div>\n",
       "<style scoped>\n",
       "    .dataframe tbody tr th:only-of-type {\n",
       "        vertical-align: middle;\n",
       "    }\n",
       "\n",
       "    .dataframe tbody tr th {\n",
       "        vertical-align: top;\n",
       "    }\n",
       "\n",
       "    .dataframe thead th {\n",
       "        text-align: right;\n",
       "    }\n",
       "</style>\n",
       "<table border=\"1\" class=\"dataframe\">\n",
       "  <thead>\n",
       "    <tr style=\"text-align: right;\">\n",
       "      <th></th>\n",
       "      <th>ID</th>\n",
       "      <th>y</th>\n",
       "      <th>X0</th>\n",
       "      <th>X1</th>\n",
       "      <th>X2</th>\n",
       "      <th>X3</th>\n",
       "      <th>X4</th>\n",
       "      <th>X5</th>\n",
       "      <th>X6</th>\n",
       "      <th>X8</th>\n",
       "      <th>...</th>\n",
       "      <th>X375</th>\n",
       "      <th>X376</th>\n",
       "      <th>X377</th>\n",
       "      <th>X378</th>\n",
       "      <th>X379</th>\n",
       "      <th>X380</th>\n",
       "      <th>X382</th>\n",
       "      <th>X383</th>\n",
       "      <th>X384</th>\n",
       "      <th>X385</th>\n",
       "    </tr>\n",
       "  </thead>\n",
       "  <tbody>\n",
       "    <tr>\n",
       "      <th>0</th>\n",
       "      <td>0</td>\n",
       "      <td>130.81</td>\n",
       "      <td>32</td>\n",
       "      <td>23</td>\n",
       "      <td>17</td>\n",
       "      <td>0</td>\n",
       "      <td>3</td>\n",
       "      <td>24</td>\n",
       "      <td>9</td>\n",
       "      <td>14</td>\n",
       "      <td>...</td>\n",
       "      <td>0</td>\n",
       "      <td>0</td>\n",
       "      <td>1</td>\n",
       "      <td>0</td>\n",
       "      <td>0</td>\n",
       "      <td>0</td>\n",
       "      <td>0</td>\n",
       "      <td>0</td>\n",
       "      <td>0</td>\n",
       "      <td>0</td>\n",
       "    </tr>\n",
       "    <tr>\n",
       "      <th>1</th>\n",
       "      <td>6</td>\n",
       "      <td>88.53</td>\n",
       "      <td>32</td>\n",
       "      <td>21</td>\n",
       "      <td>19</td>\n",
       "      <td>4</td>\n",
       "      <td>3</td>\n",
       "      <td>28</td>\n",
       "      <td>11</td>\n",
       "      <td>14</td>\n",
       "      <td>...</td>\n",
       "      <td>1</td>\n",
       "      <td>0</td>\n",
       "      <td>0</td>\n",
       "      <td>0</td>\n",
       "      <td>0</td>\n",
       "      <td>0</td>\n",
       "      <td>0</td>\n",
       "      <td>0</td>\n",
       "      <td>0</td>\n",
       "      <td>0</td>\n",
       "    </tr>\n",
       "    <tr>\n",
       "      <th>2</th>\n",
       "      <td>7</td>\n",
       "      <td>76.26</td>\n",
       "      <td>20</td>\n",
       "      <td>24</td>\n",
       "      <td>34</td>\n",
       "      <td>2</td>\n",
       "      <td>3</td>\n",
       "      <td>27</td>\n",
       "      <td>9</td>\n",
       "      <td>23</td>\n",
       "      <td>...</td>\n",
       "      <td>0</td>\n",
       "      <td>0</td>\n",
       "      <td>0</td>\n",
       "      <td>0</td>\n",
       "      <td>0</td>\n",
       "      <td>0</td>\n",
       "      <td>1</td>\n",
       "      <td>0</td>\n",
       "      <td>0</td>\n",
       "      <td>0</td>\n",
       "    </tr>\n",
       "    <tr>\n",
       "      <th>3</th>\n",
       "      <td>9</td>\n",
       "      <td>80.62</td>\n",
       "      <td>20</td>\n",
       "      <td>21</td>\n",
       "      <td>34</td>\n",
       "      <td>5</td>\n",
       "      <td>3</td>\n",
       "      <td>27</td>\n",
       "      <td>11</td>\n",
       "      <td>4</td>\n",
       "      <td>...</td>\n",
       "      <td>0</td>\n",
       "      <td>0</td>\n",
       "      <td>0</td>\n",
       "      <td>0</td>\n",
       "      <td>0</td>\n",
       "      <td>0</td>\n",
       "      <td>0</td>\n",
       "      <td>0</td>\n",
       "      <td>0</td>\n",
       "      <td>0</td>\n",
       "    </tr>\n",
       "    <tr>\n",
       "      <th>4</th>\n",
       "      <td>13</td>\n",
       "      <td>78.02</td>\n",
       "      <td>20</td>\n",
       "      <td>23</td>\n",
       "      <td>34</td>\n",
       "      <td>5</td>\n",
       "      <td>3</td>\n",
       "      <td>12</td>\n",
       "      <td>3</td>\n",
       "      <td>13</td>\n",
       "      <td>...</td>\n",
       "      <td>0</td>\n",
       "      <td>0</td>\n",
       "      <td>0</td>\n",
       "      <td>0</td>\n",
       "      <td>0</td>\n",
       "      <td>0</td>\n",
       "      <td>0</td>\n",
       "      <td>0</td>\n",
       "      <td>0</td>\n",
       "      <td>0</td>\n",
       "    </tr>\n",
       "  </tbody>\n",
       "</table>\n",
       "<p>5 rows × 378 columns</p>\n",
       "</div>"
      ],
      "text/plain": [
       "   ID       y  X0  X1  X2  X3  X4  X5  X6  X8  ...  X375  X376  X377  X378  \\\n",
       "0   0  130.81  32  23  17   0   3  24   9  14  ...     0     0     1     0   \n",
       "1   6   88.53  32  21  19   4   3  28  11  14  ...     1     0     0     0   \n",
       "2   7   76.26  20  24  34   2   3  27   9  23  ...     0     0     0     0   \n",
       "3   9   80.62  20  21  34   5   3  27  11   4  ...     0     0     0     0   \n",
       "4  13   78.02  20  23  34   5   3  12   3  13  ...     0     0     0     0   \n",
       "\n",
       "   X379  X380  X382  X383  X384  X385  \n",
       "0     0     0     0     0     0     0  \n",
       "1     0     0     0     0     0     0  \n",
       "2     0     0     1     0     0     0  \n",
       "3     0     0     0     0     0     0  \n",
       "4     0     0     0     0     0     0  \n",
       "\n",
       "[5 rows x 378 columns]"
      ]
     },
     "execution_count": 756,
     "metadata": {},
     "output_type": "execute_result"
    }
   ],
   "source": [
    "#  Implementing Label encode on object type data\n",
    "def encode_array(arr):\n",
    "    l_encoder = preprocessing.LabelEncoder().fit(arr)\n",
    "    return l_encoder.transform(arr)\n",
    "\n",
    "for col in objtype_col:\n",
    "    data[col] = encode_array(data[col])\n",
    "data.head()"
   ]
  },
  {
   "cell_type": "code",
   "execution_count": 757,
   "metadata": {},
   "outputs": [
    {
     "data": {
      "text/plain": [
       "Index(['X11', 'X93', 'X107', 'X233', 'X235', 'X268', 'X289', 'X290', 'X293',\n",
       "       'X297', 'X330', 'X347'],\n",
       "      dtype='object')"
      ]
     },
     "execution_count": 757,
     "metadata": {},
     "output_type": "execute_result"
    }
   ],
   "source": [
    "#Columns having 0 variance/ const value\n",
    "zero_var_col = data.columns[data.var(axis = 0) == 0]\n",
    "zero_var_col"
   ]
  },
  {
   "cell_type": "code",
   "execution_count": 758,
   "metadata": {},
   "outputs": [
    {
     "name": "stdout",
     "output_type": "stream",
     "text": [
      "Train Data: (4209, 366)\n",
      "Unseen Test Data: (4209, 365)\n"
     ]
    }
   ],
   "source": [
    "#Drop col with zero variance on data and data_copy\n",
    "data_copy.drop(columns=zero_var_col, inplace=True)\n",
    "data.drop(columns=zero_var_col, inplace=True)\n",
    "print(\"Train Data:\",data.shape)\n",
    "\n",
    "# Dropping same row in unseen data\n",
    "unseen_data.drop(columns=zero_var_col, inplace=True)\n",
    "print(\"Unseen Test Data:\",unseen_data.shape)"
   ]
  },
  {
   "cell_type": "code",
   "execution_count": 759,
   "metadata": {},
   "outputs": [
    {
     "name": "stdout",
     "output_type": "stream",
     "text": [
      "Features:     X0  X1  X2  X3  X4  X5  X6  X8  X10  X12  ...  X375  X376  X377  X378  \\\n",
      "0  32  23  17   0   3  24   9  14    0    0  ...     0     0     1     0   \n",
      "1  32  21  19   4   3  28  11  14    0    0  ...     1     0     0     0   \n",
      "2  20  24  34   2   3  27   9  23    0    0  ...     0     0     0     0   \n",
      "3  20  21  34   5   3  27  11   4    0    0  ...     0     0     0     0   \n",
      "4  20  23  34   5   3  12   3  13    0    0  ...     0     0     0     0   \n",
      "\n",
      "   X379  X380  X382  X383  X384  X385  \n",
      "0     0     0     0     0     0     0  \n",
      "1     0     0     0     0     0     0  \n",
      "2     0     0     1     0     0     0  \n",
      "3     0     0     0     0     0     0  \n",
      "4     0     0     0     0     0     0  \n",
      "\n",
      "[5 rows x 364 columns]\n",
      "Target Variable:  [130.81  88.53  76.26  80.62  78.02]\n"
     ]
    }
   ],
   "source": [
    "#Separating features and target variable\n",
    "train_x, train_y = data.loc[:,'X0':], data.loc[:,'y'].values\n",
    "print(\"Features: \", train_x.head())\n",
    "print(\"Target Variable: \", train_y[:5])\n",
    "\n",
    "# Removing ID column from unseen data\n",
    "unseen_data = unseen_data.loc[:,'X0':]"
   ]
  },
  {
   "cell_type": "code",
   "execution_count": 760,
   "metadata": {},
   "outputs": [
    {
     "name": "stdout",
     "output_type": "stream",
     "text": [
      "Training features set: (3367, 364)\n",
      "Testing features set: (842, 364)\n"
     ]
    },
    {
     "data": {
      "text/html": [
       "<div>\n",
       "<style scoped>\n",
       "    .dataframe tbody tr th:only-of-type {\n",
       "        vertical-align: middle;\n",
       "    }\n",
       "\n",
       "    .dataframe tbody tr th {\n",
       "        vertical-align: top;\n",
       "    }\n",
       "\n",
       "    .dataframe thead th {\n",
       "        text-align: right;\n",
       "    }\n",
       "</style>\n",
       "<table border=\"1\" class=\"dataframe\">\n",
       "  <thead>\n",
       "    <tr style=\"text-align: right;\">\n",
       "      <th></th>\n",
       "      <th>X0</th>\n",
       "      <th>X1</th>\n",
       "      <th>X2</th>\n",
       "      <th>X3</th>\n",
       "      <th>X4</th>\n",
       "      <th>X5</th>\n",
       "      <th>X6</th>\n",
       "      <th>X8</th>\n",
       "      <th>X10</th>\n",
       "      <th>X12</th>\n",
       "      <th>...</th>\n",
       "      <th>X375</th>\n",
       "      <th>X376</th>\n",
       "      <th>X377</th>\n",
       "      <th>X378</th>\n",
       "      <th>X379</th>\n",
       "      <th>X380</th>\n",
       "      <th>X382</th>\n",
       "      <th>X383</th>\n",
       "      <th>X384</th>\n",
       "      <th>X385</th>\n",
       "    </tr>\n",
       "  </thead>\n",
       "  <tbody>\n",
       "    <tr>\n",
       "      <th>3473</th>\n",
       "      <td>8</td>\n",
       "      <td>20</td>\n",
       "      <td>16</td>\n",
       "      <td>6</td>\n",
       "      <td>3</td>\n",
       "      <td>22</td>\n",
       "      <td>6</td>\n",
       "      <td>15</td>\n",
       "      <td>0</td>\n",
       "      <td>0</td>\n",
       "      <td>...</td>\n",
       "      <td>1</td>\n",
       "      <td>0</td>\n",
       "      <td>0</td>\n",
       "      <td>0</td>\n",
       "      <td>0</td>\n",
       "      <td>0</td>\n",
       "      <td>0</td>\n",
       "      <td>0</td>\n",
       "      <td>0</td>\n",
       "      <td>0</td>\n",
       "    </tr>\n",
       "    <tr>\n",
       "      <th>2827</th>\n",
       "      <td>19</td>\n",
       "      <td>1</td>\n",
       "      <td>16</td>\n",
       "      <td>0</td>\n",
       "      <td>3</td>\n",
       "      <td>20</td>\n",
       "      <td>2</td>\n",
       "      <td>9</td>\n",
       "      <td>0</td>\n",
       "      <td>0</td>\n",
       "      <td>...</td>\n",
       "      <td>0</td>\n",
       "      <td>0</td>\n",
       "      <td>1</td>\n",
       "      <td>0</td>\n",
       "      <td>0</td>\n",
       "      <td>0</td>\n",
       "      <td>0</td>\n",
       "      <td>0</td>\n",
       "      <td>0</td>\n",
       "      <td>0</td>\n",
       "    </tr>\n",
       "    <tr>\n",
       "      <th>1291</th>\n",
       "      <td>40</td>\n",
       "      <td>3</td>\n",
       "      <td>33</td>\n",
       "      <td>2</td>\n",
       "      <td>3</td>\n",
       "      <td>2</td>\n",
       "      <td>9</td>\n",
       "      <td>17</td>\n",
       "      <td>0</td>\n",
       "      <td>0</td>\n",
       "      <td>...</td>\n",
       "      <td>0</td>\n",
       "      <td>0</td>\n",
       "      <td>1</td>\n",
       "      <td>0</td>\n",
       "      <td>0</td>\n",
       "      <td>0</td>\n",
       "      <td>0</td>\n",
       "      <td>0</td>\n",
       "      <td>0</td>\n",
       "      <td>0</td>\n",
       "    </tr>\n",
       "    <tr>\n",
       "      <th>2397</th>\n",
       "      <td>44</td>\n",
       "      <td>1</td>\n",
       "      <td>16</td>\n",
       "      <td>2</td>\n",
       "      <td>3</td>\n",
       "      <td>18</td>\n",
       "      <td>9</td>\n",
       "      <td>21</td>\n",
       "      <td>0</td>\n",
       "      <td>0</td>\n",
       "      <td>...</td>\n",
       "      <td>1</td>\n",
       "      <td>0</td>\n",
       "      <td>0</td>\n",
       "      <td>0</td>\n",
       "      <td>0</td>\n",
       "      <td>0</td>\n",
       "      <td>0</td>\n",
       "      <td>0</td>\n",
       "      <td>0</td>\n",
       "      <td>0</td>\n",
       "    </tr>\n",
       "    <tr>\n",
       "      <th>503</th>\n",
       "      <td>46</td>\n",
       "      <td>1</td>\n",
       "      <td>7</td>\n",
       "      <td>6</td>\n",
       "      <td>3</td>\n",
       "      <td>9</td>\n",
       "      <td>8</td>\n",
       "      <td>9</td>\n",
       "      <td>0</td>\n",
       "      <td>0</td>\n",
       "      <td>...</td>\n",
       "      <td>1</td>\n",
       "      <td>0</td>\n",
       "      <td>0</td>\n",
       "      <td>0</td>\n",
       "      <td>0</td>\n",
       "      <td>0</td>\n",
       "      <td>0</td>\n",
       "      <td>0</td>\n",
       "      <td>0</td>\n",
       "      <td>0</td>\n",
       "    </tr>\n",
       "  </tbody>\n",
       "</table>\n",
       "<p>5 rows × 364 columns</p>\n",
       "</div>"
      ],
      "text/plain": [
       "      X0  X1  X2  X3  X4  X5  X6  X8  X10  X12  ...  X375  X376  X377  X378  \\\n",
       "3473   8  20  16   6   3  22   6  15    0    0  ...     1     0     0     0   \n",
       "2827  19   1  16   0   3  20   2   9    0    0  ...     0     0     1     0   \n",
       "1291  40   3  33   2   3   2   9  17    0    0  ...     0     0     1     0   \n",
       "2397  44   1  16   2   3  18   9  21    0    0  ...     1     0     0     0   \n",
       "503   46   1   7   6   3   9   8   9    0    0  ...     1     0     0     0   \n",
       "\n",
       "      X379  X380  X382  X383  X384  X385  \n",
       "3473     0     0     0     0     0     0  \n",
       "2827     0     0     0     0     0     0  \n",
       "1291     0     0     0     0     0     0  \n",
       "2397     0     0     0     0     0     0  \n",
       "503      0     0     0     0     0     0  \n",
       "\n",
       "[5 rows x 364 columns]"
      ]
     },
     "execution_count": 760,
     "metadata": {},
     "output_type": "execute_result"
    }
   ],
   "source": [
    "# Splitting data into training and testing set\n",
    "train_x_split, test_x_split, train_y_split, test_y_split = train_test_split(train_x,train_y,test_size = 0.20)\n",
    "print(\"Training features set:\", train_x_split.shape)\n",
    "print(\"Testing features set:\", test_x_split.shape)\n",
    "train_x_split.head()"
   ]
  },
  {
   "cell_type": "code",
   "execution_count": 761,
   "metadata": {},
   "outputs": [
    {
     "name": "stdout",
     "output_type": "stream",
     "text": [
      "After standardizing:\n",
      "         X0        X1        X2        X3        X4        X5        X6  \\\n",
      "0 -1.576692  1.049492 -0.127170  1.769526  0.027646  1.049848 -0.290191   \n",
      "1 -0.777798 -1.184458 -0.127170 -1.679052  0.027646  0.806787 -1.664897   \n",
      "2  0.747362 -0.949306  1.430852 -0.529526  0.027646 -1.380763  0.740839   \n",
      "3  1.037869 -1.184458 -0.127170 -0.529526  0.027646  0.563726  0.740839   \n",
      "4  1.183123 -1.184458 -0.952005  1.769526  0.027646 -0.530049  0.397162   \n",
      "\n",
      "         X8       X10       X12  ...      X375     X376      X377     X378  \\\n",
      "0  0.479187 -0.117691 -0.286253  ...  1.467182 -0.24181 -0.686257 -0.14571   \n",
      "1 -0.374626 -0.117691 -0.286253  ... -0.681579 -0.24181  1.457181 -0.14571   \n",
      "2  0.763791 -0.117691 -0.286253  ... -0.681579 -0.24181  1.457181 -0.14571   \n",
      "3  1.332999 -0.117691 -0.286253  ...  1.467182 -0.24181 -0.686257 -0.14571   \n",
      "4 -0.374626 -0.117691 -0.286253  ...  1.467182 -0.24181 -0.686257 -0.14571   \n",
      "\n",
      "      X379      X380      X382      X383      X384      X385  \n",
      "0 -0.08473 -0.093209 -0.091574 -0.045644 -0.024379 -0.038564  \n",
      "1 -0.08473 -0.093209 -0.091574 -0.045644 -0.024379 -0.038564  \n",
      "2 -0.08473 -0.093209 -0.091574 -0.045644 -0.024379 -0.038564  \n",
      "3 -0.08473 -0.093209 -0.091574 -0.045644 -0.024379 -0.038564  \n",
      "4 -0.08473 -0.093209 -0.091574 -0.045644 -0.024379 -0.038564  \n",
      "\n",
      "[5 rows x 364 columns]\n"
     ]
    }
   ],
   "source": [
    "# Standardizing Train Data before applying PCA\n",
    "cols = train_x_split.columns\n",
    "std = StandardScaler()\n",
    "std.fit(train_x_split)\n",
    "train_x_split = pd.DataFrame(std.transform(train_x_split), columns=cols)\n",
    "print(\"After standardizing:\")\n",
    "print(train_x_split.head())"
   ]
  },
  {
   "cell_type": "code",
   "execution_count": 762,
   "metadata": {},
   "outputs": [
    {
     "data": {
      "text/plain": [
       "'# Standardizing test data before applying PCA\\ncols = test_x_split.columns\\nstd = StandardScaler()\\nstd.fit(test_x_split)\\ntest_x_split = pd.DataFrame(std.transform(test_x_split), columns=cols)\\nprint(\"After standardizing:\")\\nprint(test_x_split.head())'"
      ]
     },
     "execution_count": 762,
     "metadata": {},
     "output_type": "execute_result"
    }
   ],
   "source": [
    "'''# Standardizing test data before applying PCA\n",
    "cols = test_x_split.columns\n",
    "std = StandardScaler()\n",
    "std.fit(test_x_split)\n",
    "test_x_split = pd.DataFrame(std.transform(test_x_split), columns=cols)\n",
    "print(\"After standardizing:\")\n",
    "print(test_x_split.head())'''"
   ]
  },
  {
   "cell_type": "code",
   "execution_count": 763,
   "metadata": {},
   "outputs": [
    {
     "name": "stdout",
     "output_type": "stream",
     "text": [
      "After standardizing:\n",
      "         X0        X1        X2        X3        X4        X5        X6  \\\n",
      "0 -0.625211  1.395760  1.586068  1.163082  0.036299  1.266652 -2.388888   \n",
      "1  0.754609 -0.945199 -0.956445 -1.651020  0.036299 -0.695011 -0.296602   \n",
      "2 -0.625211  1.395760 -0.076345  1.163082  0.036299 -1.733538  0.749541   \n",
      "3 -0.625211  0.225281  1.586068  1.163082  0.036299  1.843611  1.446970   \n",
      "4  0.951726  1.044616 -0.076345 -0.525379  0.036299  1.728219  0.400827   \n",
      "\n",
      "         X8       X10       X12  ...      X375      X376      X377      X378  \\\n",
      "0  1.488396 -0.139195 -0.283441  ... -0.695420 -0.228583 -0.673338  7.138835   \n",
      "1  1.773477 -0.139195 -0.283441  ... -0.695420 -0.228583  1.485138 -0.140079   \n",
      "2 -0.364632 -0.139195 -0.283441  ... -0.695420 -0.228583 -0.673338  7.138835   \n",
      "3  0.205531 -0.139195 -0.283441  ... -0.695420 -0.228583 -0.673338  7.138835   \n",
      "4  0.062990 -0.139195 -0.283441  ...  1.437979 -0.228583 -0.673338 -0.140079   \n",
      "\n",
      "       X379      X380      X382      X383      X384      X385  \n",
      "0 -0.109645 -0.090243 -0.094174 -0.021804 -0.026707 -0.040815  \n",
      "1 -0.109645 -0.090243 -0.094174 -0.021804 -0.026707 -0.040815  \n",
      "2 -0.109645 -0.090243 -0.094174 -0.021804 -0.026707 -0.040815  \n",
      "3 -0.109645 -0.090243 -0.094174 -0.021804 -0.026707 -0.040815  \n",
      "4 -0.109645 -0.090243 -0.094174 -0.021804 -0.026707 -0.040815  \n",
      "\n",
      "[5 rows x 364 columns]\n"
     ]
    }
   ],
   "source": [
    "# Standardizing Unseen test data before applying PCA\n",
    "unseen_cols = unseen_data.columns\n",
    "unseen_std = StandardScaler()\n",
    "unseen_std.fit(unseen_data)\n",
    "unseen_data = pd.DataFrame(unseen_std.transform(unseen_data), columns=unseen_cols)\n",
    "print(\"After standardizing:\")\n",
    "print(unseen_data.head())"
   ]
  },
  {
   "cell_type": "code",
   "execution_count": 764,
   "metadata": {},
   "outputs": [
    {
     "name": "stdout",
     "output_type": "stream",
     "text": [
      "After standardizing:\n",
      "         X0        X1        X2        X3        X4        X5        X6  \\\n",
      "0  1.037869 -1.184458 -0.127170 -0.529526  0.027646 -0.651580  0.740839   \n",
      "1  0.384229  1.049492 -0.860357  1.769526  0.027646  1.535970 -0.290191   \n",
      "2  1.183123  1.754950 -0.952005 -0.529526  0.027646  1.414439 -1.321221   \n",
      "3  0.456856  1.402221 -0.127170  0.045237  0.027646  1.414439 -0.633867   \n",
      "4 -1.576692  1.049492 -0.127170  0.045237  0.027646 -0.894641 -0.290191   \n",
      "\n",
      "         X8       X10       X12  ...      X375      X376      X377     X378  \\\n",
      "0  0.906093 -0.117691 -0.286253  ... -0.681579  4.135475 -0.686257 -0.14571   \n",
      "1  0.336884 -0.117691  3.493411  ...  1.467182 -0.241810 -0.686257 -0.14571   \n",
      "2 -0.374626 -0.117691 -0.286253  ...  1.467182 -0.241810 -0.686257 -0.14571   \n",
      "3 -0.516928 -0.117691 -0.286253  ... -0.681579 -0.241810 -0.686257 -0.14571   \n",
      "4 -0.516928 -0.117691 -0.286253  ...  1.467182 -0.241810 -0.686257 -0.14571   \n",
      "\n",
      "      X379      X380      X382      X383      X384      X385  \n",
      "0 -0.08473 -0.093209 -0.091574 -0.045644 -0.024379 -0.038564  \n",
      "1 -0.08473 -0.093209 -0.091574 -0.045644 -0.024379 -0.038564  \n",
      "2 -0.08473 -0.093209 -0.091574 -0.045644 -0.024379 -0.038564  \n",
      "3 -0.08473 -0.093209 -0.091574 -0.045644 -0.024379 -0.038564  \n",
      "4 -0.08473 -0.093209 -0.091574 -0.045644 -0.024379 -0.038564  \n",
      "\n",
      "[5 rows x 364 columns]\n"
     ]
    }
   ],
   "source": [
    "#Applying standardization using training set inforamtion\n",
    "test_x_split = pd.DataFrame(std.transform(test_x_split), columns=cols)\n",
    "print(\"After standardizing:\")\n",
    "print(test_x_split.head())"
   ]
  },
  {
   "cell_type": "code",
   "execution_count": 765,
   "metadata": {},
   "outputs": [
    {
     "data": {
      "text/plain": [
       "'pca = decomposition.PCA(n_components=150)\\npca.fit(train_x_split)\\n\\nplt.figure()\\nplt.plot(np.cumsum(pca.explained_variance_ratio_))\\nplt.xlabel(\"Number of componenets\")\\nplt.ylabel(\"Variance\")\\nplt.title(\"Variance Growth\")\\nplt.show()\\n\\n#By seeing above trend, even if we choose 150 number of componenets, it will cover 99% of variance\\npca = decomposition.PCA(n_components=150)\\npca.fit(train_x_split)\\n\\npca_labels = [\\'pca_\\'+str(i) for i in range(1,151)]\\npca_train_x_split = pd.DataFrame(data=pca.transform(train_x_split), columns=pca_labels)\\nprint(\"Transformed train set shape: \",pca_train_x_split.shape)\\n\\n#PCA on test set\\npca_test = decomposition.PCA(n_components=150)\\npca.fit(test_x_split)\\n\\npca_test_x_split = pd.DataFrame(data=pca.transform(test_x_split),columns=pca_labels)\\nprint(\"Transformed test set shape: \",pca_test_x_split.shape)'"
      ]
     },
     "execution_count": 765,
     "metadata": {},
     "output_type": "execute_result"
    }
   ],
   "source": [
    "# PCA\n",
    "\n",
    "'''pca = decomposition.PCA(n_components=150)\n",
    "pca.fit(train_x_split)\n",
    "\n",
    "plt.figure()\n",
    "plt.plot(np.cumsum(pca.explained_variance_ratio_))\n",
    "plt.xlabel(\"Number of componenets\")\n",
    "plt.ylabel(\"Variance\")\n",
    "plt.title(\"Variance Growth\")\n",
    "plt.show()\n",
    "\n",
    "#By seeing above trend, even if we choose 150 number of componenets, it will cover 99% of variance\n",
    "pca = decomposition.PCA(n_components=150)\n",
    "pca.fit(train_x_split)\n",
    "\n",
    "pca_labels = ['pca_'+str(i) for i in range(1,151)]\n",
    "pca_train_x_split = pd.DataFrame(data=pca.transform(train_x_split), columns=pca_labels)\n",
    "print(\"Transformed train set shape: \",pca_train_x_split.shape)\n",
    "\n",
    "#PCA on test set\n",
    "pca_test = decomposition.PCA(n_components=150)\n",
    "pca.fit(test_x_split)\n",
    "\n",
    "pca_test_x_split = pd.DataFrame(data=pca.transform(test_x_split),columns=pca_labels)\n",
    "print(\"Transformed test set shape: \",pca_test_x_split.shape)'''"
   ]
  },
  {
   "cell_type": "code",
   "execution_count": 766,
   "metadata": {},
   "outputs": [
    {
     "data": {
      "text/plain": [
       "'# PCA on unseen data\\n\\nunseen_pca = decomposition.PCA(n_components=150)\\npca.fit(unseen_data)\\n\\n#unseen_pca_labels = [\\'pca_\\'+str(i) for i in range(1,151)]\\npca_unseen_data = pd.DataFrame(data=pca.transform(unseen_data), columns=pca_labels)\\nprint(\"Transformed unseen data shape: \",pca_unseen_data.shape)'"
      ]
     },
     "execution_count": 766,
     "metadata": {},
     "output_type": "execute_result"
    }
   ],
   "source": [
    "'''# PCA on unseen data\n",
    "\n",
    "unseen_pca = decomposition.PCA(n_components=150)\n",
    "pca.fit(unseen_data)\n",
    "\n",
    "#unseen_pca_labels = ['pca_'+str(i) for i in range(1,151)]\n",
    "pca_unseen_data = pd.DataFrame(data=pca.transform(unseen_data), columns=pca_labels)\n",
    "print(\"Transformed unseen data shape: \",pca_unseen_data.shape)'''"
   ]
  },
  {
   "cell_type": "code",
   "execution_count": 767,
   "metadata": {},
   "outputs": [],
   "source": [
    "xgb_train_set = xgb.DMatrix(train_x_split, label=train_y_split)\n",
    "xgb_test_set = xgb.DMatrix(test_x_split, label=test_y_split)"
   ]
  },
  {
   "cell_type": "code",
   "execution_count": 768,
   "metadata": {},
   "outputs": [
    {
     "name": "stdout",
     "output_type": "stream",
     "text": [
      "[12:02:38] WARNING: C:/Users/Administrator/workspace/xgboost-win64_release_1.2.0/src/objective/regression_obj.cu:174: reg:linear is now deprecated in favor of reg:squarederror.\n",
      "[0]\ttrain-rmse:98.99657\ttest-rmse:98.83813\ttrain-r2:-59.45368\ttest-r2:-61.95206\n",
      "Multiple eval metrics have been passed: 'test-r2' will be used for early stopping.\n",
      "\n",
      "Will train until test-r2 hasn't improved in 50 rounds.\n",
      "[10]\ttrain-rmse:81.06319\ttest-rmse:80.84130\ttrain-r2:-39.53495\ttest-r2:-41.11409\n",
      "[20]\ttrain-rmse:66.43913\ttest-rmse:66.15540\ttrain-r2:-26.22890\ttest-r2:-27.20275\n",
      "[30]\ttrain-rmse:54.52700\ttest-rmse:54.18199\ttrain-r2:-17.34026\ttest-r2:-17.91781\n",
      "[40]\ttrain-rmse:44.83980\ttest-rmse:44.43317\ttrain-r2:-11.40251\ttest-r2:-11.72259\n",
      "[50]\ttrain-rmse:36.98085\ttest-rmse:36.51025\ttrain-r2:-7.43599\ttest-r2:-7.58995\n",
      "[60]\ttrain-rmse:30.62636\ttest-rmse:30.09397\ttrain-r2:-4.78593\ttest-r2:-4.83606\n",
      "[70]\ttrain-rmse:25.51157\ttest-rmse:24.91364\ttrain-r2:-3.01473\ttest-r2:-2.99977\n",
      "[80]\ttrain-rmse:21.42103\ttest-rmse:20.75277\ttrain-r2:-1.83050\ttest-r2:-1.77532\n",
      "[90]\ttrain-rmse:18.17769\ttest-rmse:17.44533\ttrain-r2:-1.03826\ttest-r2:-0.96119\n",
      "[100]\ttrain-rmse:15.63456\ttest-rmse:14.84051\ttrain-r2:-0.50784\ttest-r2:-0.41925\n",
      "[110]\ttrain-rmse:13.66846\ttest-rmse:12.81732\ttrain-r2:-0.15245\ttest-r2:-0.05866\n",
      "[120]\ttrain-rmse:12.17026\ttest-rmse:11.27604\ttrain-r2:0.08635\ttest-r2:0.18064\n",
      "[130]\ttrain-rmse:11.05046\ttest-rmse:10.11899\ttrain-r2:0.24674\ttest-r2:0.34016\n",
      "[140]\ttrain-rmse:10.22499\ttest-rmse:9.27676\ttrain-r2:0.35508\ttest-r2:0.44543\n",
      "[150]\ttrain-rmse:9.63140\ttest-rmse:8.67592\ttrain-r2:0.42778\ttest-r2:0.51494\n",
      "[160]\ttrain-rmse:9.20505\ttest-rmse:8.25513\ttrain-r2:0.47732\ttest-r2:0.56085\n",
      "[170]\ttrain-rmse:8.90058\ttest-rmse:7.96199\ttrain-r2:0.51133\ttest-r2:0.59149\n",
      "[180]\ttrain-rmse:8.68409\ttest-rmse:7.76294\ttrain-r2:0.53481\ttest-r2:0.61166\n",
      "[190]\ttrain-rmse:8.53274\ttest-rmse:7.63694\ttrain-r2:0.55088\ttest-r2:0.62416\n",
      "[200]\ttrain-rmse:8.42718\ttest-rmse:7.55423\ttrain-r2:0.56193\ttest-r2:0.63226\n",
      "[210]\ttrain-rmse:8.34784\ttest-rmse:7.50296\ttrain-r2:0.57014\ttest-r2:0.63723\n",
      "[220]\ttrain-rmse:8.29289\ttest-rmse:7.46914\ttrain-r2:0.57578\ttest-r2:0.64050\n",
      "[230]\ttrain-rmse:8.25133\ttest-rmse:7.44922\ttrain-r2:0.58002\ttest-r2:0.64241\n",
      "[240]\ttrain-rmse:8.21419\ttest-rmse:7.44251\ttrain-r2:0.58379\ttest-r2:0.64306\n",
      "[250]\ttrain-rmse:8.18730\ttest-rmse:7.43766\ttrain-r2:0.58651\ttest-r2:0.64352\n",
      "[260]\ttrain-rmse:8.16438\ttest-rmse:7.43318\ttrain-r2:0.58882\ttest-r2:0.64395\n",
      "[270]\ttrain-rmse:8.14197\ttest-rmse:7.43339\ttrain-r2:0.59108\ttest-r2:0.64393\n",
      "[280]\ttrain-rmse:8.12398\ttest-rmse:7.43646\ttrain-r2:0.59288\ttest-r2:0.64364\n",
      "[290]\ttrain-rmse:8.10753\ttest-rmse:7.43769\ttrain-r2:0.59453\ttest-r2:0.64352\n",
      "[300]\ttrain-rmse:8.08843\ttest-rmse:7.43799\ttrain-r2:0.59644\ttest-r2:0.64349\n",
      "[310]\ttrain-rmse:8.07305\ttest-rmse:7.43946\ttrain-r2:0.59797\ttest-r2:0.64335\n",
      "Stopping. Best iteration:\n",
      "[265]\ttrain-rmse:8.15378\ttest-rmse:7.43240\ttrain-r2:0.58989\ttest-r2:0.64402\n",
      "\n",
      "[12:02:43] WARNING: C:/Users/Administrator/workspace/xgboost-win64_release_1.2.0/src/objective/regression_obj.cu:174: reg:linear is now deprecated in favor of reg:squarederror.\n"
     ]
    }
   ],
   "source": [
    "params = {}\n",
    "\n",
    "params['objective'] = 'reg:linear'\n",
    "params['eta'] = 0.02\n",
    "params['max_depth'] = 4\n",
    "\n",
    "def xgb_r2score(preds, d_train):\n",
    "    labels = d_train.get_label()\n",
    "    return 'r2',r2_score(labels,preds)\n",
    "\n",
    "watchlist = [(xgb_train_set,'train'),(xgb_test_set,'test')]\n",
    "\n",
    "clf = xgb.train(params,xgb_train_set,1000,watchlist,early_stopping_rounds=50,feval=xgb_r2score,maximize=True,verbose_eval=10)"
   ]
  },
  {
   "cell_type": "code",
   "execution_count": 770,
   "metadata": {},
   "outputs": [],
   "source": [
    "# Predictions\n",
    "dmat_test_set = xgb.DMatrix(unseen_data)\n",
    "pred_test_set = clf.predict(dmat_test_set)\n",
    "\n",
    "ids = [i for i in range(1,4210)]\n",
    "result_pred = pd.DataFrame(data = ids, columns=['ID'])\n",
    "result_pred['y'] = pred_test_set"
   ]
  },
  {
   "cell_type": "code",
   "execution_count": 684,
   "metadata": {},
   "outputs": [],
   "source": [
    "result_pred.to_csv(r'C:\\Users\\91790\\Desktop\\ML\\Project\\Machine-Learning--Projects\\Projects\\Projects for Submission\\Project 1 - Mercedes-Benz Greener Manufacturing\\Dataset for the project\\result.csv',index = False)"
   ]
  },
  {
   "cell_type": "code",
   "execution_count": 677,
   "metadata": {},
   "outputs": [
    {
     "data": {
      "text/html": [
       "<div>\n",
       "<style scoped>\n",
       "    .dataframe tbody tr th:only-of-type {\n",
       "        vertical-align: middle;\n",
       "    }\n",
       "\n",
       "    .dataframe tbody tr th {\n",
       "        vertical-align: top;\n",
       "    }\n",
       "\n",
       "    .dataframe thead th {\n",
       "        text-align: right;\n",
       "    }\n",
       "</style>\n",
       "<table border=\"1\" class=\"dataframe\">\n",
       "  <thead>\n",
       "    <tr style=\"text-align: right;\">\n",
       "      <th></th>\n",
       "      <th>ID</th>\n",
       "      <th>y</th>\n",
       "    </tr>\n",
       "  </thead>\n",
       "  <tbody>\n",
       "    <tr>\n",
       "      <th>0</th>\n",
       "      <td>1</td>\n",
       "      <td>84.878258</td>\n",
       "    </tr>\n",
       "    <tr>\n",
       "      <th>1</th>\n",
       "      <td>2</td>\n",
       "      <td>104.587158</td>\n",
       "    </tr>\n",
       "    <tr>\n",
       "      <th>2</th>\n",
       "      <td>3</td>\n",
       "      <td>84.465904</td>\n",
       "    </tr>\n",
       "    <tr>\n",
       "      <th>3</th>\n",
       "      <td>4</td>\n",
       "      <td>90.860306</td>\n",
       "    </tr>\n",
       "    <tr>\n",
       "      <th>4</th>\n",
       "      <td>5</td>\n",
       "      <td>95.146538</td>\n",
       "    </tr>\n",
       "  </tbody>\n",
       "</table>\n",
       "</div>"
      ],
      "text/plain": [
       "   ID           y\n",
       "0   1   84.878258\n",
       "1   2  104.587158\n",
       "2   3   84.465904\n",
       "3   4   90.860306\n",
       "4   5   95.146538"
      ]
     },
     "execution_count": 677,
     "metadata": {},
     "output_type": "execute_result"
    }
   ],
   "source": [
    "result_pred.head()"
   ]
  },
  {
   "cell_type": "code",
   "execution_count": null,
   "metadata": {},
   "outputs": [],
   "source": []
  },
  {
   "cell_type": "code",
   "execution_count": null,
   "metadata": {},
   "outputs": [],
   "source": []
  },
  {
   "cell_type": "code",
   "execution_count": null,
   "metadata": {},
   "outputs": [],
   "source": []
  },
  {
   "cell_type": "code",
   "execution_count": null,
   "metadata": {},
   "outputs": [],
   "source": []
  },
  {
   "cell_type": "code",
   "execution_count": null,
   "metadata": {},
   "outputs": [],
   "source": []
  },
  {
   "cell_type": "code",
   "execution_count": null,
   "metadata": {},
   "outputs": [],
   "source": []
  },
  {
   "cell_type": "code",
   "execution_count": null,
   "metadata": {},
   "outputs": [],
   "source": []
  },
  {
   "cell_type": "code",
   "execution_count": null,
   "metadata": {},
   "outputs": [],
   "source": []
  },
  {
   "cell_type": "code",
   "execution_count": null,
   "metadata": {},
   "outputs": [],
   "source": []
  },
  {
   "cell_type": "code",
   "execution_count": null,
   "metadata": {},
   "outputs": [],
   "source": []
  },
  {
   "cell_type": "code",
   "execution_count": null,
   "metadata": {},
   "outputs": [],
   "source": []
  },
  {
   "cell_type": "code",
   "execution_count": null,
   "metadata": {},
   "outputs": [],
   "source": []
  },
  {
   "cell_type": "code",
   "execution_count": null,
   "metadata": {},
   "outputs": [],
   "source": []
  },
  {
   "cell_type": "code",
   "execution_count": null,
   "metadata": {},
   "outputs": [],
   "source": []
  },
  {
   "cell_type": "code",
   "execution_count": null,
   "metadata": {},
   "outputs": [],
   "source": []
  }
 ],
 "metadata": {
  "kernelspec": {
   "display_name": "Python 3",
   "language": "python",
   "name": "python3"
  },
  "language_info": {
   "codemirror_mode": {
    "name": "ipython",
    "version": 3
   },
   "file_extension": ".py",
   "mimetype": "text/x-python",
   "name": "python",
   "nbconvert_exporter": "python",
   "pygments_lexer": "ipython3",
   "version": "3.7.4"
  }
 },
 "nbformat": 4,
 "nbformat_minor": 4
}
